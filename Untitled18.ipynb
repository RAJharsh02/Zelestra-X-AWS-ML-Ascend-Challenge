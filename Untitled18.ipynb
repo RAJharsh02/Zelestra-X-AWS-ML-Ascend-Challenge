{
  "nbformat": 4,
  "nbformat_minor": 0,
  "metadata": {
    "colab": {
      "provenance": []
    },
    "kernelspec": {
      "name": "python3",
      "display_name": "Python 3"
    },
    "language_info": {
      "name": "python"
    }
  },
  "cells": [
    {
      "cell_type": "code",
      "source": [
        "# 📦 Imports\n",
        "!pip install optuna catboost\n",
        "!pip install category_encoders\n",
        "import pandas as pd\n",
        "import numpy as np\n",
        "import optuna\n",
        "from catboost import CatBoostRegressor\n",
        "from sklearn.model_selection import KFold\n",
        "from sklearn.preprocessing import StandardScaler, PolynomialFeatures\n",
        "from sklearn.metrics import mean_squared_error\n",
        "from category_encoders import TargetEncoder\n",
        "import warnings\n",
        "warnings.filterwarnings('ignore')"
      ],
      "metadata": {
        "id": "T0K-pIEnOqdI",
        "colab": {
          "base_uri": "https://localhost:8080/"
        },
        "outputId": "f366a217-e200-4006-acd0-36ba806212ef"
      },
      "execution_count": null,
      "outputs": [
        {
          "output_type": "stream",
          "name": "stdout",
          "text": [
            "Requirement already satisfied: optuna in /usr/local/lib/python3.11/dist-packages (4.3.0)\n",
            "Requirement already satisfied: catboost in /usr/local/lib/python3.11/dist-packages (1.2.8)\n",
            "Requirement already satisfied: alembic>=1.5.0 in /usr/local/lib/python3.11/dist-packages (from optuna) (1.16.1)\n",
            "Requirement already satisfied: colorlog in /usr/local/lib/python3.11/dist-packages (from optuna) (6.9.0)\n",
            "Requirement already satisfied: numpy in /usr/local/lib/python3.11/dist-packages (from optuna) (2.0.2)\n",
            "Requirement already satisfied: packaging>=20.0 in /usr/local/lib/python3.11/dist-packages (from optuna) (24.2)\n",
            "Requirement already satisfied: sqlalchemy>=1.4.2 in /usr/local/lib/python3.11/dist-packages (from optuna) (2.0.41)\n",
            "Requirement already satisfied: tqdm in /usr/local/lib/python3.11/dist-packages (from optuna) (4.67.1)\n",
            "Requirement already satisfied: PyYAML in /usr/local/lib/python3.11/dist-packages (from optuna) (6.0.2)\n",
            "Requirement already satisfied: graphviz in /usr/local/lib/python3.11/dist-packages (from catboost) (0.20.3)\n",
            "Requirement already satisfied: matplotlib in /usr/local/lib/python3.11/dist-packages (from catboost) (3.10.0)\n",
            "Requirement already satisfied: pandas>=0.24 in /usr/local/lib/python3.11/dist-packages (from catboost) (2.2.2)\n",
            "Requirement already satisfied: scipy in /usr/local/lib/python3.11/dist-packages (from catboost) (1.15.3)\n",
            "Requirement already satisfied: plotly in /usr/local/lib/python3.11/dist-packages (from catboost) (5.24.1)\n",
            "Requirement already satisfied: six in /usr/local/lib/python3.11/dist-packages (from catboost) (1.17.0)\n",
            "Requirement already satisfied: Mako in /usr/lib/python3/dist-packages (from alembic>=1.5.0->optuna) (1.1.3)\n",
            "Requirement already satisfied: typing-extensions>=4.12 in /usr/local/lib/python3.11/dist-packages (from alembic>=1.5.0->optuna) (4.14.0)\n",
            "Requirement already satisfied: python-dateutil>=2.8.2 in /usr/local/lib/python3.11/dist-packages (from pandas>=0.24->catboost) (2.9.0.post0)\n",
            "Requirement already satisfied: pytz>=2020.1 in /usr/local/lib/python3.11/dist-packages (from pandas>=0.24->catboost) (2025.2)\n",
            "Requirement already satisfied: tzdata>=2022.7 in /usr/local/lib/python3.11/dist-packages (from pandas>=0.24->catboost) (2025.2)\n",
            "Requirement already satisfied: greenlet>=1 in /usr/local/lib/python3.11/dist-packages (from sqlalchemy>=1.4.2->optuna) (3.2.2)\n",
            "Requirement already satisfied: contourpy>=1.0.1 in /usr/local/lib/python3.11/dist-packages (from matplotlib->catboost) (1.3.2)\n",
            "Requirement already satisfied: cycler>=0.10 in /usr/local/lib/python3.11/dist-packages (from matplotlib->catboost) (0.12.1)\n",
            "Requirement already satisfied: fonttools>=4.22.0 in /usr/local/lib/python3.11/dist-packages (from matplotlib->catboost) (4.58.1)\n",
            "Requirement already satisfied: kiwisolver>=1.3.1 in /usr/local/lib/python3.11/dist-packages (from matplotlib->catboost) (1.4.8)\n",
            "Requirement already satisfied: pillow>=8 in /usr/local/lib/python3.11/dist-packages (from matplotlib->catboost) (11.2.1)\n",
            "Requirement already satisfied: pyparsing>=2.3.1 in /usr/local/lib/python3.11/dist-packages (from matplotlib->catboost) (3.2.3)\n",
            "Requirement already satisfied: tenacity>=6.2.0 in /usr/local/lib/python3.11/dist-packages (from plotly->catboost) (9.1.2)\n",
            "Requirement already satisfied: category_encoders in /usr/local/lib/python3.11/dist-packages (2.8.1)\n",
            "Requirement already satisfied: numpy>=1.14.0 in /usr/local/lib/python3.11/dist-packages (from category_encoders) (2.0.2)\n",
            "Requirement already satisfied: pandas>=1.0.5 in /usr/local/lib/python3.11/dist-packages (from category_encoders) (2.2.2)\n",
            "Requirement already satisfied: patsy>=0.5.1 in /usr/local/lib/python3.11/dist-packages (from category_encoders) (1.0.1)\n",
            "Requirement already satisfied: scikit-learn>=1.6.0 in /usr/local/lib/python3.11/dist-packages (from category_encoders) (1.6.1)\n",
            "Requirement already satisfied: scipy>=1.0.0 in /usr/local/lib/python3.11/dist-packages (from category_encoders) (1.15.3)\n",
            "Requirement already satisfied: statsmodels>=0.9.0 in /usr/local/lib/python3.11/dist-packages (from category_encoders) (0.14.4)\n",
            "Requirement already satisfied: python-dateutil>=2.8.2 in /usr/local/lib/python3.11/dist-packages (from pandas>=1.0.5->category_encoders) (2.9.0.post0)\n",
            "Requirement already satisfied: pytz>=2020.1 in /usr/local/lib/python3.11/dist-packages (from pandas>=1.0.5->category_encoders) (2025.2)\n",
            "Requirement already satisfied: tzdata>=2022.7 in /usr/local/lib/python3.11/dist-packages (from pandas>=1.0.5->category_encoders) (2025.2)\n",
            "Requirement already satisfied: joblib>=1.2.0 in /usr/local/lib/python3.11/dist-packages (from scikit-learn>=1.6.0->category_encoders) (1.5.1)\n",
            "Requirement already satisfied: threadpoolctl>=3.1.0 in /usr/local/lib/python3.11/dist-packages (from scikit-learn>=1.6.0->category_encoders) (3.6.0)\n",
            "Requirement already satisfied: packaging>=21.3 in /usr/local/lib/python3.11/dist-packages (from statsmodels>=0.9.0->category_encoders) (24.2)\n",
            "Requirement already satisfied: six>=1.5 in /usr/local/lib/python3.11/dist-packages (from python-dateutil>=2.8.2->pandas>=1.0.5->category_encoders) (1.17.0)\n"
          ]
        }
      ]
    },
    {
      "cell_type": "code",
      "source": [
        "train_df = pd.read_csv(\"train.csv\")\n",
        "test_df = pd.read_csv(\"test.csv\")"
      ],
      "metadata": {
        "id": "Hwf9aYWwEtHY"
      },
      "execution_count": null,
      "outputs": []
    },
    {
      "cell_type": "code",
      "source": [
        "\n",
        "# 📊 Columns\n",
        "num_cols = ['temperature', 'irradiance', 'humidity', 'panel_age', 'maintenance_count',\n",
        "            'soiling_ratio', 'voltage', 'current', 'module_temperature',\n",
        "            'cloud_coverage', 'wind_speed', 'pressure']\n",
        "cat_cols = ['string_id', 'error_code', 'installation_type']\n"
      ],
      "metadata": {
        "id": "8NaLJYM0Ykid"
      },
      "execution_count": null,
      "outputs": []
    },
    {
      "cell_type": "code",
      "source": [
        "for col in num_cols:\n",
        "    train_df[col] = pd.to_numeric(train_df[col], errors='coerce')\n",
        "    test_df[col] = pd.to_numeric(test_df[col], errors='coerce')\n",
        "train_df[num_cols] = train_df[num_cols].fillna(train_df[num_cols].mean())\n",
        "test_df[num_cols] = test_df[num_cols].fillna(test_df[num_cols].mean())\n",
        "for col in cat_cols:\n",
        "    train_df[col] = train_df[col].astype(str).replace(\"nan\", \"missing\")\n",
        "    test_df[col] = test_df[col].astype(str).replace(\"nan\", \"missing\")\n"
      ],
      "metadata": {
        "id": "uHXbbjxX1k22"
      },
      "execution_count": null,
      "outputs": []
    },
    {
      "cell_type": "code",
      "source": [
        "# 🔍 Outlier Removal\n",
        "q_low = train_df['efficiency'].quantile(0.01)\n",
        "q_high = train_df['efficiency'].quantile(0.99)\n",
        "train_df = train_df[(train_df['efficiency'] > q_low) & (train_df['efficiency'] < q_high)]"
      ],
      "metadata": {
        "id": "XGNjd4L8anL2"
      },
      "execution_count": null,
      "outputs": []
    },
    {
      "cell_type": "code",
      "source": [
        "def create_features(df):\n",
        "    df = df.copy()\n",
        "    df['power_output'] = df['voltage'] * df['current']\n",
        "    df['degradation_rate'] = df['panel_age'] * df['soiling_ratio']\n",
        "    df['temp_diff'] = df['module_temperature'] - df['temperature']\n",
        "    df['irradiance_adjusted'] = df['irradiance'] * (1 - df['cloud_coverage'] / 100)\n",
        "    df['temp_irradiance_interaction'] = df['module_temperature'] * df['irradiance']\n",
        "    df['age_soiling_temp'] = df['panel_age'] * df['soiling_ratio'] * df['module_temperature']\n",
        "    df['wind_cooling_effect'] = df['wind_speed'] * (df['module_temperature'] - df['temperature'])\n",
        "    df['humidity_pressure'] = df['humidity'] * df['pressure']\n",
        "    df['humidity_x_irradiance'] = df['humidity'] * df['irradiance']\n",
        "    df['wind_x_cloud'] = df['wind_speed'] * df['cloud_coverage']\n",
        "    return df\n",
        "\n",
        "train_df = create_features(train_df)\n",
        "test_df = create_features(test_df)"
      ],
      "metadata": {
        "id": "oUepmZyobKMw"
      },
      "execution_count": null,
      "outputs": []
    },
    {
      "cell_type": "code",
      "source": [
        "poly = PolynomialFeatures(degree=2, interaction_only=True, include_bias=False)\n",
        "poly_feats = poly.fit_transform(train_df[num_cols])\n",
        "poly_feats_test = poly.transform(test_df[num_cols])\n",
        "poly_cols = [f\"poly_{i}\" for i in range(poly_feats.shape[1])]\n",
        "poly_df = pd.DataFrame(poly_feats, columns=poly_cols)\n",
        "poly_df_test = pd.DataFrame(poly_feats_test, columns=poly_cols)\n",
        "\n",
        "train_df = pd.concat([train_df.reset_index(drop=True), poly_df], axis=1)\n",
        "test_df = pd.concat([test_df.reset_index(drop=True), poly_df_test], axis=1)"
      ],
      "metadata": {
        "id": "aykUK-tkbj_8"
      },
      "execution_count": null,
      "outputs": []
    },
    {
      "cell_type": "code",
      "source": [
        "# 🔠 Target Encoding\n",
        "target_enc = TargetEncoder(cols=cat_cols)\n",
        "train_df[cat_cols] = target_enc.fit_transform(train_df[cat_cols], train_df['efficiency'])\n",
        "test_df[cat_cols] = target_enc.transform(test_df[cat_cols])\n"
      ],
      "metadata": {
        "id": "Rt0XGxx6bop7"
      },
      "execution_count": null,
      "outputs": []
    },
    {
      "cell_type": "code",
      "source": [
        "# 📊 Scaling\n",
        "scaler = StandardScaler()\n",
        "scaled_cols = num_cols + poly_cols\n",
        "train_df[scaled_cols] = scaler.fit_transform(train_df[scaled_cols])\n",
        "test_df[scaled_cols] = scaler.transform(test_df[scaled_cols])\n"
      ],
      "metadata": {
        "id": "sKUPO6nnbvC9"
      },
      "execution_count": null,
      "outputs": []
    },
    {
      "cell_type": "code",
      "source": [
        "# 🧪 Prepare Data\n",
        "X = train_df.drop(['id', 'efficiency'], axis=1)\n",
        "y = np.log1p(train_df['efficiency'])  # Log transformation of target\n",
        "X_test = test_df.drop(['id'], axis=1)"
      ],
      "metadata": {
        "id": "V1e_1CWrdKeF"
      },
      "execution_count": null,
      "outputs": []
    },
    {
      "cell_type": "code",
      "source": [
        "# 🎯 Custom Score\n",
        "def custom_score(y_true, y_pred):\n",
        "    return 100 * (1 - np.sqrt(mean_squared_error(np.expm1(y_true), np.expm1(y_pred))))"
      ],
      "metadata": {
        "id": "_EW6APJkdNss"
      },
      "execution_count": null,
      "outputs": []
    },
    {
      "cell_type": "code",
      "source": [
        "def objective_cat(trial):\n",
        "    bootstrap_type = trial.suggest_categorical(\"bootstrap_type\", [\"Bayesian\", \"Bernoulli\", \"MVS\"])\n",
        "\n",
        "    params = {\n",
        "        \"iterations\": 1000,\n",
        "        \"depth\": trial.suggest_int(\"depth\", 4, 10),\n",
        "        \"learning_rate\": trial.suggest_float(\"learning_rate\", 0.01, 0.3, log=True),\n",
        "        \"l2_leaf_reg\": trial.suggest_float(\"l2_leaf_reg\", 1, 10),\n",
        "        \"bootstrap_type\": bootstrap_type,\n",
        "        \"min_data_in_leaf\": trial.suggest_int(\"min_data_in_leaf\", 1, 20),\n",
        "        \"random_strength\": trial.suggest_float(\"random_strength\", 0.1, 10),\n",
        "        \"early_stopping_rounds\": 50,\n",
        "        \"verbose\": 0,\n",
        "        \"loss_function\": \"RMSE\",\n",
        "        \"random_seed\": 42\n",
        "    }\n",
        "\n",
        "    # Conditional parameters based on bootstrap type\n",
        "    if bootstrap_type == \"Bayesian\":\n",
        "        params[\"bagging_temperature\"] = trial.suggest_float(\"bagging_temperature\", 0, 1)\n",
        "    elif bootstrap_type in [\"Bernoulli\", \"MVS\"]:\n",
        "        params[\"subsample\"] = trial.suggest_float(\"subsample\", 0.5, 1.0)\n",
        "\n",
        "    kf = KFold(n_splits=5, shuffle=True, random_state=42)\n",
        "    scores = []\n",
        "\n",
        "    for train_idx, val_idx in kf.split(X):\n",
        "        X_tr, X_val = X.iloc[train_idx], X.iloc[val_idx]\n",
        "        y_tr, y_val = y.iloc[train_idx], y.iloc[val_idx]\n",
        "\n",
        "        model = CatBoostRegressor(**params)\n",
        "        model.fit(X_tr, y_tr, eval_set=(X_val, y_val), use_best_model=True)\n",
        "\n",
        "        preds = model.predict(X_val)\n",
        "        scores.append(custom_score(y_val, preds))  # Or use RMSE directly\n",
        "\n",
        "    return -np.mean(scores)  # Minimize the negative score"
      ],
      "metadata": {
        "id": "XiTlBCYam9ff"
      },
      "execution_count": null,
      "outputs": []
    },
    {
      "cell_type": "code",
      "source": [
        "study_cat = optuna.create_study(direction=\"minimize\")\n",
        "study_cat.optimize(objective_cat, n_trials=30)\n",
        "cat_best_params = study_cat.best_params"
      ],
      "metadata": {
        "colab": {
          "base_uri": "https://localhost:8080/"
        },
        "id": "lpXR_ZQhnHnh",
        "outputId": "3636aa88-a28a-4169-8514-c080bb824205"
      },
      "execution_count": null,
      "outputs": [
        {
          "output_type": "stream",
          "name": "stderr",
          "text": [
            "[I 2025-06-08 16:35:57,932] A new study created in memory with name: no-name-64efe2d8-c23b-4a61-bd7e-9e8c8ad71052\n",
            "[I 2025-06-08 16:51:29,088] Trial 0 finished with value: -95.57473672294398 and parameters: {'bootstrap_type': 'Bayesian', 'depth': 9, 'learning_rate': 0.016578018799412876, 'l2_leaf_reg': 6.341991612240737, 'min_data_in_leaf': 5, 'random_strength': 8.02345632920249, 'bagging_temperature': 0.36244005965568216}. Best is trial 0 with value: -95.57473672294398.\n",
            "[I 2025-06-08 16:52:41,659] Trial 1 finished with value: -95.58133122264924 and parameters: {'bootstrap_type': 'Bayesian', 'depth': 4, 'learning_rate': 0.029629214515242693, 'l2_leaf_reg': 2.478235111375282, 'min_data_in_leaf': 9, 'random_strength': 4.387682534625672, 'bagging_temperature': 0.810786370441289}. Best is trial 1 with value: -95.58133122264924.\n",
            "[I 2025-06-08 16:54:28,809] Trial 2 finished with value: -95.6006446032985 and parameters: {'bootstrap_type': 'MVS', 'depth': 5, 'learning_rate': 0.015291439749811894, 'l2_leaf_reg': 8.046671533490532, 'min_data_in_leaf': 4, 'random_strength': 0.6884395490582524, 'subsample': 0.5933770515426989}. Best is trial 2 with value: -95.6006446032985.\n",
            "[I 2025-06-08 16:54:42,273] Trial 3 finished with value: -95.56375165951799 and parameters: {'bootstrap_type': 'Bernoulli', 'depth': 4, 'learning_rate': 0.16850532973773993, 'l2_leaf_reg': 3.5109954267267063, 'min_data_in_leaf': 15, 'random_strength': 1.086069021895053, 'subsample': 0.5618880801416588}. Best is trial 2 with value: -95.6006446032985.\n",
            "[I 2025-06-08 16:56:30,356] Trial 4 finished with value: -95.59541398890424 and parameters: {'bootstrap_type': 'Bayesian', 'depth': 5, 'learning_rate': 0.029141095512344735, 'l2_leaf_reg': 6.9818099501244655, 'min_data_in_leaf': 20, 'random_strength': 6.582254941591673, 'bagging_temperature': 0.6728914609157856}. Best is trial 2 with value: -95.6006446032985.\n",
            "[I 2025-06-08 16:56:55,652] Trial 5 finished with value: -95.50540098833855 and parameters: {'bootstrap_type': 'Bernoulli', 'depth': 6, 'learning_rate': 0.2507072495334155, 'l2_leaf_reg': 2.3735897115517055, 'min_data_in_leaf': 13, 'random_strength': 4.3689742157459035, 'subsample': 0.510640233457226}. Best is trial 2 with value: -95.6006446032985.\n",
            "[I 2025-06-08 16:57:56,190] Trial 6 finished with value: -95.59976196571587 and parameters: {'bootstrap_type': 'Bayesian', 'depth': 6, 'learning_rate': 0.05287619633716816, 'l2_leaf_reg': 7.132444654836803, 'min_data_in_leaf': 7, 'random_strength': 0.9799321561221169, 'bagging_temperature': 0.03103170806917932}. Best is trial 2 with value: -95.6006446032985.\n",
            "[I 2025-06-08 16:59:51,019] Trial 7 finished with value: -95.6005810015392 and parameters: {'bootstrap_type': 'Bernoulli', 'depth': 8, 'learning_rate': 0.07416645104572582, 'l2_leaf_reg': 8.819492666818356, 'min_data_in_leaf': 13, 'random_strength': 0.3248546064009703, 'subsample': 0.8746568995383854}. Best is trial 2 with value: -95.6006446032985.\n",
            "[I 2025-06-08 17:01:51,115] Trial 8 finished with value: -95.54107610316775 and parameters: {'bootstrap_type': 'Bayesian', 'depth': 5, 'learning_rate': 0.010077928611644818, 'l2_leaf_reg': 8.49993913240028, 'min_data_in_leaf': 15, 'random_strength': 4.11775055217388, 'bagging_temperature': 0.8685694078728862}. Best is trial 2 with value: -95.6006446032985.\n",
            "[I 2025-06-08 17:04:02,750] Trial 9 finished with value: -95.59499331503886 and parameters: {'bootstrap_type': 'Bernoulli', 'depth': 6, 'learning_rate': 0.03231694339725914, 'l2_leaf_reg': 8.838280406754002, 'min_data_in_leaf': 3, 'random_strength': 8.658731159195943, 'subsample': 0.9378282827727061}. Best is trial 2 with value: -95.6006446032985.\n",
            "[I 2025-06-08 17:29:05,175] Trial 10 finished with value: -95.56448985386274 and parameters: {'bootstrap_type': 'MVS', 'depth': 10, 'learning_rate': 0.011907117870284223, 'l2_leaf_reg': 4.724167488047087, 'min_data_in_leaf': 2, 'random_strength': 2.0526827480528684, 'subsample': 0.6833653169695667}. Best is trial 2 with value: -95.6006446032985.\n",
            "[I 2025-06-08 17:31:21,749] Trial 11 finished with value: -95.57699690804061 and parameters: {'bootstrap_type': 'MVS', 'depth': 8, 'learning_rate': 0.07928876539773494, 'l2_leaf_reg': 9.273689860727963, 'min_data_in_leaf': 10, 'random_strength': 2.4123828798169127, 'subsample': 0.8924562867480044}. Best is trial 2 with value: -95.6006446032985.\n",
            "[I 2025-06-08 17:32:50,660] Trial 12 finished with value: -95.59544218841752 and parameters: {'bootstrap_type': 'MVS', 'depth': 8, 'learning_rate': 0.09370893744760157, 'l2_leaf_reg': 9.822415333305832, 'min_data_in_leaf': 19, 'random_strength': 0.22159320933982143, 'subsample': 0.783735161961702}. Best is trial 2 with value: -95.6006446032985.\n",
            "[I 2025-06-08 17:34:45,138] Trial 13 finished with value: -95.59643078607004 and parameters: {'bootstrap_type': 'MVS', 'depth': 7, 'learning_rate': 0.05719257661381522, 'l2_leaf_reg': 7.805163952304343, 'min_data_in_leaf': 13, 'random_strength': 3.043846746078234, 'subsample': 0.7674447510404014}. Best is trial 2 with value: -95.6006446032985.\n",
            "[I 2025-06-08 17:35:56,483] Trial 14 finished with value: -95.59654931982479 and parameters: {'bootstrap_type': 'Bernoulli', 'depth': 8, 'learning_rate': 0.10981841874128759, 'l2_leaf_reg': 5.388707263500768, 'min_data_in_leaf': 7, 'random_strength': 0.1289125509552476, 'subsample': 0.6409077816298868}. Best is trial 2 with value: -95.6006446032985.\n",
            "[I 2025-06-08 17:58:27,148] Trial 15 finished with value: -95.57988549879971 and parameters: {'bootstrap_type': 'MVS', 'depth': 10, 'learning_rate': 0.018516269264989938, 'l2_leaf_reg': 8.07021904068228, 'min_data_in_leaf': 1, 'random_strength': 1.8045006691163705, 'subsample': 0.8412507398997779}. Best is trial 2 with value: -95.6006446032985.\n",
            "[I 2025-06-08 18:01:09,714] Trial 16 finished with value: -95.58245351678822 and parameters: {'bootstrap_type': 'Bernoulli', 'depth': 7, 'learning_rate': 0.04700056791702186, 'l2_leaf_reg': 9.905216955014966, 'min_data_in_leaf': 17, 'random_strength': 9.770997558545965, 'subsample': 0.6500134876079039}. Best is trial 2 with value: -95.6006446032985.\n",
            "[I 2025-06-08 18:03:37,510] Trial 17 finished with value: -95.52286950007147 and parameters: {'bootstrap_type': 'MVS', 'depth': 9, 'learning_rate': 0.13695967321274743, 'l2_leaf_reg': 1.1109755457683939, 'min_data_in_leaf': 12, 'random_strength': 5.51995049735217, 'subsample': 0.9895438107941241}. Best is trial 2 with value: -95.6006446032985.\n",
            "[I 2025-06-08 18:04:41,519] Trial 18 finished with value: -95.59529988150271 and parameters: {'bootstrap_type': 'Bernoulli', 'depth': 5, 'learning_rate': 0.0403841125709183, 'l2_leaf_reg': 6.24984522996907, 'min_data_in_leaf': 5, 'random_strength': 2.591954697342375, 'subsample': 0.8401046880174615}. Best is trial 2 with value: -95.6006446032985.\n",
            "[I 2025-06-08 18:09:29,774] Trial 19 finished with value: -95.5597402652555 and parameters: {'bootstrap_type': 'MVS', 'depth': 9, 'learning_rate': 0.06903340252960583, 'l2_leaf_reg': 7.650068519447037, 'min_data_in_leaf': 8, 'random_strength': 5.9516467109552735, 'subsample': 0.7102060248538576}. Best is trial 2 with value: -95.6006446032985.\n",
            "[I 2025-06-08 18:13:36,677] Trial 20 finished with value: -95.59796927971567 and parameters: {'bootstrap_type': 'Bernoulli', 'depth': 7, 'learning_rate': 0.017981411428250747, 'l2_leaf_reg': 4.9094595837035895, 'min_data_in_leaf': 11, 'random_strength': 0.9953016823025806, 'subsample': 0.5870381341350737}. Best is trial 2 with value: -95.6006446032985.\n",
            "[I 2025-06-08 18:14:32,386] Trial 21 finished with value: -95.59873078971411 and parameters: {'bootstrap_type': 'Bayesian', 'depth': 6, 'learning_rate': 0.05974722513152248, 'l2_leaf_reg': 7.074713955482392, 'min_data_in_leaf': 6, 'random_strength': 1.1502421972070658, 'bagging_temperature': 0.05736552264416958}. Best is trial 2 with value: -95.6006446032985.\n",
            "[I 2025-06-08 18:14:58,499] Trial 22 finished with value: -95.55148509467212 and parameters: {'bootstrap_type': 'Bayesian', 'depth': 6, 'learning_rate': 0.20370817613370712, 'l2_leaf_reg': 6.854693359817388, 'min_data_in_leaf': 4, 'random_strength': 3.29881991893605, 'bagging_temperature': 0.0216828017877273}. Best is trial 2 with value: -95.6006446032985.\n",
            "[I 2025-06-08 18:15:22,115] Trial 23 finished with value: -95.59453800187728 and parameters: {'bootstrap_type': 'Bayesian', 'depth': 5, 'learning_rate': 0.12444446493686596, 'l2_leaf_reg': 8.736544654032869, 'min_data_in_leaf': 8, 'random_strength': 0.13071150879410431, 'bagging_temperature': 0.3944988574614427}. Best is trial 2 with value: -95.6006446032985.\n",
            "[I 2025-06-08 18:19:08,349] Trial 24 finished with value: -95.60433934886197 and parameters: {'bootstrap_type': 'Bayesian', 'depth': 7, 'learning_rate': 0.02289087973409762, 'l2_leaf_reg': 7.687359568296168, 'min_data_in_leaf': 6, 'random_strength': 1.4645504501978495, 'bagging_temperature': 0.21438327780624308}. Best is trial 24 with value: -95.60433934886197.\n",
            "[I 2025-06-08 18:24:48,580] Trial 25 finished with value: -95.59752413226566 and parameters: {'bootstrap_type': 'MVS', 'depth': 8, 'learning_rate': 0.02322948931247206, 'l2_leaf_reg': 7.967727634213226, 'min_data_in_leaf': 3, 'random_strength': 1.4112653339189491, 'subsample': 0.8483280483298322}. Best is trial 24 with value: -95.60433934886197.\n",
            "[I 2025-06-08 18:29:27,369] Trial 26 finished with value: -95.57862944416728 and parameters: {'bootstrap_type': 'Bernoulli', 'depth': 7, 'learning_rate': 0.013738070675077093, 'l2_leaf_reg': 9.291168150060745, 'min_data_in_leaf': 15, 'random_strength': 3.4481479087813613, 'subsample': 0.7569802461975847}. Best is trial 24 with value: -95.60433934886197.\n",
            "[I 2025-06-08 18:30:35,818] Trial 27 finished with value: -95.58750029812774 and parameters: {'bootstrap_type': 'MVS', 'depth': 4, 'learning_rate': 0.02343204311515994, 'l2_leaf_reg': 5.643740932965532, 'min_data_in_leaf': 10, 'random_strength': 1.8507351935760976, 'subsample': 0.5109953590472396}. Best is trial 24 with value: -95.60433934886197.\n",
            "[I 2025-06-08 18:36:01,353] Trial 28 finished with value: -95.60203100684112 and parameters: {'bootstrap_type': 'Bayesian', 'depth': 9, 'learning_rate': 0.040775221785500665, 'l2_leaf_reg': 8.408773668204908, 'min_data_in_leaf': 1, 'random_strength': 0.45355567308563316, 'bagging_temperature': 0.2651930455812762}. Best is trial 24 with value: -95.60433934886197.\n",
            "[I 2025-06-08 18:44:00,746] Trial 29 finished with value: -95.57885208384978 and parameters: {'bootstrap_type': 'Bayesian', 'depth': 9, 'learning_rate': 0.037808052149093746, 'l2_leaf_reg': 6.657278314121493, 'min_data_in_leaf': 1, 'random_strength': 7.01519656209067, 'bagging_temperature': 0.2316815672274951}. Best is trial 24 with value: -95.60433934886197.\n"
          ]
        }
      ]
    },
    {
      "cell_type": "code",
      "source": [
        "final_model = CatBoostRegressor(**cat_best_params,\n",
        "                                iterations=1000,\n",
        "                                early_stopping_rounds=50,\n",
        "                                loss_function='RMSE',\n",
        "                                random_seed=42,\n",
        "                                verbose=0)\n",
        "final_model.fit(X, y)\n"
      ],
      "metadata": {
        "id": "eUlo3iU-peKs",
        "colab": {
          "base_uri": "https://localhost:8080/"
        },
        "outputId": "0da6f71d-1592-4840-9d13-fdf39b512c53"
      },
      "execution_count": null,
      "outputs": [
        {
          "output_type": "execute_result",
          "data": {
            "text/plain": [
              "<catboost.core.CatBoostRegressor at 0x7e9fe3a03010>"
            ]
          },
          "metadata": {},
          "execution_count": 45
        }
      ]
    },
    {
      "cell_type": "code",
      "source": [
        "# 🧪 Prediction\n",
        "final_preds = final_model.predict(X_test)\n",
        "final_preds = np.expm1(final_preds)  # Revert log1p transformation"
      ],
      "metadata": {
        "id": "WNPn8zGTpxeB"
      },
      "execution_count": null,
      "outputs": []
    },
    {
      "cell_type": "code",
      "source": [
        "submission = pd.DataFrame({\n",
        "    'id': test_df['id'],\n",
        "    'efficiency': final_preds\n",
        "})\n",
        "submission.to_csv(\"catboost_submission.csv\", index=False)\n",
        "\n",
        "print(\"✅ Submission file 'catboost_submission.csv' created.\")"
      ],
      "metadata": {
        "id": "7GnZZ68qp3qA",
        "colab": {
          "base_uri": "https://localhost:8080/"
        },
        "outputId": "5427139a-8365-48ab-faee-ffa97e064037"
      },
      "execution_count": null,
      "outputs": [
        {
          "output_type": "stream",
          "name": "stdout",
          "text": [
            "✅ Submission file 'catboost_submission.csv' created.\n"
          ]
        }
      ]
    },
    {
      "cell_type": "code",
      "source": [
        "from google.colab import files\n",
        "files.download(\"catboost_submission.csv\")"
      ],
      "metadata": {
        "colab": {
          "base_uri": "https://localhost:8080/",
          "height": 17
        },
        "id": "iOKpwWxGrUtz",
        "outputId": "9cec1a1e-2cd8-4be7-841f-6dd8e0a04f4c"
      },
      "execution_count": null,
      "outputs": [
        {
          "output_type": "display_data",
          "data": {
            "text/plain": [
              "<IPython.core.display.Javascript object>"
            ],
            "application/javascript": [
              "\n",
              "    async function download(id, filename, size) {\n",
              "      if (!google.colab.kernel.accessAllowed) {\n",
              "        return;\n",
              "      }\n",
              "      const div = document.createElement('div');\n",
              "      const label = document.createElement('label');\n",
              "      label.textContent = `Downloading \"${filename}\": `;\n",
              "      div.appendChild(label);\n",
              "      const progress = document.createElement('progress');\n",
              "      progress.max = size;\n",
              "      div.appendChild(progress);\n",
              "      document.body.appendChild(div);\n",
              "\n",
              "      const buffers = [];\n",
              "      let downloaded = 0;\n",
              "\n",
              "      const channel = await google.colab.kernel.comms.open(id);\n",
              "      // Send a message to notify the kernel that we're ready.\n",
              "      channel.send({})\n",
              "\n",
              "      for await (const message of channel.messages) {\n",
              "        // Send a message to notify the kernel that we're ready.\n",
              "        channel.send({})\n",
              "        if (message.buffers) {\n",
              "          for (const buffer of message.buffers) {\n",
              "            buffers.push(buffer);\n",
              "            downloaded += buffer.byteLength;\n",
              "            progress.value = downloaded;\n",
              "          }\n",
              "        }\n",
              "      }\n",
              "      const blob = new Blob(buffers, {type: 'application/binary'});\n",
              "      const a = document.createElement('a');\n",
              "      a.href = window.URL.createObjectURL(blob);\n",
              "      a.download = filename;\n",
              "      div.appendChild(a);\n",
              "      a.click();\n",
              "      div.remove();\n",
              "    }\n",
              "  "
            ]
          },
          "metadata": {}
        },
        {
          "output_type": "display_data",
          "data": {
            "text/plain": [
              "<IPython.core.display.Javascript object>"
            ],
            "application/javascript": [
              "download(\"download_a626bf7d-af39-46bb-b524-808501ac3c41\", \"catboost_submission.csv\", 289957)"
            ]
          },
          "metadata": {}
        }
      ]
    },
    {
      "cell_type": "code",
      "source": [
        "final_preds = final_model.predict(X_test_processed)"
      ],
      "metadata": {
        "colab": {
          "base_uri": "https://localhost:8080/"
        },
        "id": "KpVChMF8BnmI",
        "outputId": "60049e4a-0b48-44f5-bf0f-bb779d7a3ebe"
      },
      "execution_count": null,
      "outputs": [
        {
          "output_type": "stream",
          "name": "stderr",
          "text": [
            "/usr/local/lib/python3.11/dist-packages/sklearn/utils/deprecation.py:151: FutureWarning: 'force_all_finite' was renamed to 'ensure_all_finite' in 1.6 and will be removed in 1.8.\n",
            "  warnings.warn(\n"
          ]
        }
      ]
    },
    {
      "cell_type": "code",
      "source": [
        "# After preprocessing test set as X_test_processed\n",
        "ensemble_test_pred = final_model.predict(X_test_processed)\n",
        "\n",
        "# Then create submission\n",
        "test = pd.read_csv(\"test.csv\")\n",
        "submission_df = pd.DataFrame({\n",
        "    \"id\": test[\"id\"],\n",
        "    \"efficiency\": ensemble_test_pred\n",
        "})\n",
        "submission_filename = \"ensemble_submission.csv\"\n",
        "submission_df.to_csv(submission_filename, index=False)\n",
        "\n",
        "from google.colab import files\n",
        "files.download(submission_filename)"
      ],
      "metadata": {
        "colab": {
          "base_uri": "https://localhost:8080/",
          "height": 72
        },
        "id": "9AyuqhukBrwc",
        "outputId": "80aba178-cf37-4979-9119-1718a8191e39"
      },
      "execution_count": null,
      "outputs": [
        {
          "output_type": "stream",
          "name": "stderr",
          "text": [
            "/usr/local/lib/python3.11/dist-packages/sklearn/utils/deprecation.py:151: FutureWarning: 'force_all_finite' was renamed to 'ensure_all_finite' in 1.6 and will be removed in 1.8.\n",
            "  warnings.warn(\n"
          ]
        },
        {
          "output_type": "display_data",
          "data": {
            "text/plain": [
              "<IPython.core.display.Javascript object>"
            ],
            "application/javascript": [
              "\n",
              "    async function download(id, filename, size) {\n",
              "      if (!google.colab.kernel.accessAllowed) {\n",
              "        return;\n",
              "      }\n",
              "      const div = document.createElement('div');\n",
              "      const label = document.createElement('label');\n",
              "      label.textContent = `Downloading \"${filename}\": `;\n",
              "      div.appendChild(label);\n",
              "      const progress = document.createElement('progress');\n",
              "      progress.max = size;\n",
              "      div.appendChild(progress);\n",
              "      document.body.appendChild(div);\n",
              "\n",
              "      const buffers = [];\n",
              "      let downloaded = 0;\n",
              "\n",
              "      const channel = await google.colab.kernel.comms.open(id);\n",
              "      // Send a message to notify the kernel that we're ready.\n",
              "      channel.send({})\n",
              "\n",
              "      for await (const message of channel.messages) {\n",
              "        // Send a message to notify the kernel that we're ready.\n",
              "        channel.send({})\n",
              "        if (message.buffers) {\n",
              "          for (const buffer of message.buffers) {\n",
              "            buffers.push(buffer);\n",
              "            downloaded += buffer.byteLength;\n",
              "            progress.value = downloaded;\n",
              "          }\n",
              "        }\n",
              "      }\n",
              "      const blob = new Blob(buffers, {type: 'application/binary'});\n",
              "      const a = document.createElement('a');\n",
              "      a.href = window.URL.createObjectURL(blob);\n",
              "      a.download = filename;\n",
              "      div.appendChild(a);\n",
              "      a.click();\n",
              "      div.remove();\n",
              "    }\n",
              "  "
            ]
          },
          "metadata": {}
        },
        {
          "output_type": "display_data",
          "data": {
            "text/plain": [
              "<IPython.core.display.Javascript object>"
            ],
            "application/javascript": [
              "download(\"download_c1ce2774-534b-45ee-9007-796ff9ca12d1\", \"ensemble_submission.csv\", 290251)"
            ]
          },
          "metadata": {}
        }
      ]
    },
    {
      "cell_type": "code",
      "source": [
        "# After preprocessing test set as X_test_processed\n",
        "ensemble_test_pred = final_model.predict(X_test_processed)\n",
        "\n",
        "# Then create submission\n",
        "test = pd.read_csv(\"test.csv\")\n",
        "submission_df = pd.DataFrame({\n",
        "    \"id\": test[\"id\"],\n",
        "    \"efficiency\": ensemble_test_pred\n",
        "})\n",
        "submission_filename = \"ensemble_submission.csv\"\n",
        "submission_df.to_csv(submission_filename, index=False)\n",
        "\n",
        "from google.colab import files\n",
        "files.download(submission_filename)"
      ],
      "metadata": {
        "colab": {
          "base_uri": "https://localhost:8080/",
          "height": 72
        },
        "id": "txYqtTDVBwLQ",
        "outputId": "119ceb33-8927-4997-c965-d070cabd8f33"
      },
      "execution_count": null,
      "outputs": [
        {
          "output_type": "stream",
          "name": "stderr",
          "text": [
            "/usr/local/lib/python3.11/dist-packages/sklearn/utils/deprecation.py:151: FutureWarning: 'force_all_finite' was renamed to 'ensure_all_finite' in 1.6 and will be removed in 1.8.\n",
            "  warnings.warn(\n"
          ]
        },
        {
          "output_type": "display_data",
          "data": {
            "text/plain": [
              "<IPython.core.display.Javascript object>"
            ],
            "application/javascript": [
              "\n",
              "    async function download(id, filename, size) {\n",
              "      if (!google.colab.kernel.accessAllowed) {\n",
              "        return;\n",
              "      }\n",
              "      const div = document.createElement('div');\n",
              "      const label = document.createElement('label');\n",
              "      label.textContent = `Downloading \"${filename}\": `;\n",
              "      div.appendChild(label);\n",
              "      const progress = document.createElement('progress');\n",
              "      progress.max = size;\n",
              "      div.appendChild(progress);\n",
              "      document.body.appendChild(div);\n",
              "\n",
              "      const buffers = [];\n",
              "      let downloaded = 0;\n",
              "\n",
              "      const channel = await google.colab.kernel.comms.open(id);\n",
              "      // Send a message to notify the kernel that we're ready.\n",
              "      channel.send({})\n",
              "\n",
              "      for await (const message of channel.messages) {\n",
              "        // Send a message to notify the kernel that we're ready.\n",
              "        channel.send({})\n",
              "        if (message.buffers) {\n",
              "          for (const buffer of message.buffers) {\n",
              "            buffers.push(buffer);\n",
              "            downloaded += buffer.byteLength;\n",
              "            progress.value = downloaded;\n",
              "          }\n",
              "        }\n",
              "      }\n",
              "      const blob = new Blob(buffers, {type: 'application/binary'});\n",
              "      const a = document.createElement('a');\n",
              "      a.href = window.URL.createObjectURL(blob);\n",
              "      a.download = filename;\n",
              "      div.appendChild(a);\n",
              "      a.click();\n",
              "      div.remove();\n",
              "    }\n",
              "  "
            ]
          },
          "metadata": {}
        },
        {
          "output_type": "display_data",
          "data": {
            "text/plain": [
              "<IPython.core.display.Javascript object>"
            ],
            "application/javascript": [
              "download(\"download_6e8c3f7e-e9aa-4049-8dd4-9f65e0a60e30\", \"ensemble_submission.csv\", 290375)"
            ]
          },
          "metadata": {}
        }
      ]
    }
  ]
}